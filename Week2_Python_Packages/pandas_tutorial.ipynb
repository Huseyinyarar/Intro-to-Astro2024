{
 "cells": [
  {
   "cell_type": "markdown",
   "metadata": {},
   "source": [
    "# Pandas Tutorial\n",
    "\n",
    "**Tutorial by Ellianna Abrahams, 2021 updates by Isaac Malsky**\n",
    "\n",
    "In addition to being adorable, bamboo-loving bears, **pandas** is a Python library that makes it easy to store and work with large datasets. This notebook will teach you the basics of using pandas."
   ]
  },
  {
   "cell_type": "markdown",
   "metadata": {},
   "source": [
    "![](https://cache.desktopnexus.com/thumbseg/1321/1321509-bigthumbnail.jpg)"
   ]
  },
  {
   "cell_type": "markdown",
   "metadata": {},
   "source": [
    "Over the years many people have been building complex functions in python to allow for analyzing data. These functions can be built into libraries or modules, and there are several that are used across many disciplines. For last week's assignment you worked with numpy, a library containing complex mathematical functions. Today we'll be working with pandas in this tutorial, and matplotlib in the next tutorial. Let's import those libraries here and save them in variables so that we can easily interact with them later."
   ]
  },
  {
   "cell_type": "markdown",
   "metadata": {},
   "source": [
    "### Imports\n",
    "\n",
    "In future notebooks, the following cell will usually be at the top of any code. Generally organizing imports at the top of a notebook makes it easier to remember which libraries you've already imported and follows the guidelines of good coding practice."
   ]
  },
  {
   "cell_type": "code",
   "execution_count": 1,
   "metadata": {},
   "outputs": [],
   "source": [
    "import numpy as np   # Support for arrays and array math\n",
    "import pandas as pd  # The Lesson for today\n",
    "import matplotlib.pyplot as plt"
   ]
  },
  {
   "cell_type": "markdown",
   "metadata": {},
   "source": [
    "## The Basics - Create Data\n",
    "\n",
    "Let's take a look at the 5 most popular baby names in the U.S. in 2018 by. Data was taken from www.ssa.gov."
   ]
  },
  {
   "cell_type": "code",
   "execution_count": 2,
   "metadata": {},
   "outputs": [],
   "source": [
    "# We can write words into python code by surrounding a word or number with quotation marks.\n",
    "# This is called a string, and we have stored our five strings in a list.\n",
    "names = ['Liam', 'Emma', 'Noah', 'Olivia', 'Ava']\n",
    "\n",
    "# Whole numbers are called integers.\n",
    "birth_count = [19837, 18688, 18267, 17921, 14924]\n",
    "\n",
    "# Decimals or fractions are called floats.\n",
    "percentage_of_births = [0.0102, 0.0101, 0.0097, 0.0095, 0.0081]"
   ]
  },
  {
   "cell_type": "code",
   "execution_count": 3,
   "metadata": {},
   "outputs": [
    {
     "name": "stdout",
     "output_type": "stream",
     "text": [
      "<class 'list'>\n"
     ]
    }
   ],
   "source": [
    "print (type(names))"
   ]
  },
  {
   "cell_type": "markdown",
   "metadata": {},
   "source": [
    "Let's store this data in a pandas spreadsheet, called a `DataFrame`. \n",
    "We can't create a dataframe directly from our lists, so we're going to store them in a dictionary, or `dict`."
   ]
  },
  {
   "cell_type": "code",
   "execution_count": 4,
   "metadata": {},
   "outputs": [],
   "source": [
    "data = {'names': names, 'count': birth_count, 'percentage': percentage_of_births}"
   ]
  },
  {
   "cell_type": "code",
   "execution_count": 5,
   "metadata": {},
   "outputs": [
    {
     "name": "stdout",
     "output_type": "stream",
     "text": [
      "<class 'dict'>\n",
      "{'names': ['Liam', 'Emma', 'Noah', 'Olivia', 'Ava'], 'count': [19837, 18688, 18267, 17921, 14924], 'percentage': [0.0102, 0.0101, 0.0097, 0.0095, 0.0081]}\n"
     ]
    }
   ],
   "source": [
    "print (type(data))\n",
    "print (data)"
   ]
  },
  {
   "cell_type": "markdown",
   "metadata": {},
   "source": [
    "Now we can make a dataframe! Notice how we access the `DataFrame` function in the pandas library by using the variable `pd` that we defined above."
   ]
  },
  {
   "cell_type": "code",
   "execution_count": 6,
   "metadata": {},
   "outputs": [],
   "source": [
    "df = pd.DataFrame(data)"
   ]
  },
  {
   "cell_type": "code",
   "execution_count": 7,
   "metadata": {},
   "outputs": [
    {
     "data": {
      "text/html": [
       "<div>\n",
       "<style scoped>\n",
       "    .dataframe tbody tr th:only-of-type {\n",
       "        vertical-align: middle;\n",
       "    }\n",
       "\n",
       "    .dataframe tbody tr th {\n",
       "        vertical-align: top;\n",
       "    }\n",
       "\n",
       "    .dataframe thead th {\n",
       "        text-align: right;\n",
       "    }\n",
       "</style>\n",
       "<table border=\"1\" class=\"dataframe\">\n",
       "  <thead>\n",
       "    <tr style=\"text-align: right;\">\n",
       "      <th></th>\n",
       "      <th>names</th>\n",
       "      <th>count</th>\n",
       "      <th>percentage</th>\n",
       "    </tr>\n",
       "  </thead>\n",
       "  <tbody>\n",
       "    <tr>\n",
       "      <th>0</th>\n",
       "      <td>Liam</td>\n",
       "      <td>19837</td>\n",
       "      <td>0.0102</td>\n",
       "    </tr>\n",
       "    <tr>\n",
       "      <th>1</th>\n",
       "      <td>Emma</td>\n",
       "      <td>18688</td>\n",
       "      <td>0.0101</td>\n",
       "    </tr>\n",
       "    <tr>\n",
       "      <th>2</th>\n",
       "      <td>Noah</td>\n",
       "      <td>18267</td>\n",
       "      <td>0.0097</td>\n",
       "    </tr>\n",
       "    <tr>\n",
       "      <th>3</th>\n",
       "      <td>Olivia</td>\n",
       "      <td>17921</td>\n",
       "      <td>0.0095</td>\n",
       "    </tr>\n",
       "    <tr>\n",
       "      <th>4</th>\n",
       "      <td>Ava</td>\n",
       "      <td>14924</td>\n",
       "      <td>0.0081</td>\n",
       "    </tr>\n",
       "  </tbody>\n",
       "</table>\n",
       "</div>"
      ],
      "text/plain": [
       "    names  count  percentage\n",
       "0    Liam  19837      0.0102\n",
       "1    Emma  18688      0.0101\n",
       "2    Noah  18267      0.0097\n",
       "3  Olivia  17921      0.0095\n",
       "4     Ava  14924      0.0081"
      ]
     },
     "execution_count": 7,
     "metadata": {},
     "output_type": "execute_result"
    }
   ],
   "source": [
    "# The command .head is returns the first n rows, where n is the value in the parentheses\n",
    "# You can always google commands to see how they are called and how to call them\n",
    "# For example: https://pandas.pydata.org/docs/reference/api/pandas.DataFrame.head.html\n",
    "\n",
    "df.head(5)"
   ]
  },
  {
   "cell_type": "markdown",
   "metadata": {},
   "source": [
    "We can save our dataframe to a csv file so that we can share it with our colleagues. If you want to save it somewhere specific on your computer, you can specify the path inside the string."
   ]
  },
  {
   "cell_type": "code",
   "execution_count": 8,
   "metadata": {},
   "outputs": [],
   "source": [
    "df.to_csv('save_the_pandas.csv')"
   ]
  },
  {
   "cell_type": "code",
   "execution_count": 9,
   "metadata": {},
   "outputs": [],
   "source": [
    "# What do you think the saved file will look like with this?\n",
    "# Take a guess before running it\n",
    "\n",
    "df.to_csv('dataframe.txt', sep='\\t')\n",
    "df.to_csv('dataframe.txt', sep='q')"
   ]
  },
  {
   "cell_type": "markdown",
   "metadata": {},
   "source": [
    "## Data manipulation\n",
    "One of the most helpful aspects of pandas is how it can be used to quickly perform operations on large data sets."
   ]
  },
  {
   "cell_type": "code",
   "execution_count": 10,
   "metadata": {},
   "outputs": [
    {
     "data": {
      "text/html": [
       "<div>\n",
       "<style scoped>\n",
       "    .dataframe tbody tr th:only-of-type {\n",
       "        vertical-align: middle;\n",
       "    }\n",
       "\n",
       "    .dataframe tbody tr th {\n",
       "        vertical-align: top;\n",
       "    }\n",
       "\n",
       "    .dataframe thead th {\n",
       "        text-align: right;\n",
       "    }\n",
       "</style>\n",
       "<table border=\"1\" class=\"dataframe\">\n",
       "  <thead>\n",
       "    <tr style=\"text-align: right;\">\n",
       "      <th></th>\n",
       "      <th>x</th>\n",
       "      <th>y</th>\n",
       "    </tr>\n",
       "  </thead>\n",
       "  <tbody>\n",
       "    <tr>\n",
       "      <th>0</th>\n",
       "      <td>0.783106</td>\n",
       "      <td>0.079031</td>\n",
       "    </tr>\n",
       "    <tr>\n",
       "      <th>1</th>\n",
       "      <td>-1.157254</td>\n",
       "      <td>-0.644479</td>\n",
       "    </tr>\n",
       "    <tr>\n",
       "      <th>2</th>\n",
       "      <td>0.602490</td>\n",
       "      <td>0.518906</td>\n",
       "    </tr>\n",
       "    <tr>\n",
       "      <th>3</th>\n",
       "      <td>1.173943</td>\n",
       "      <td>-0.073281</td>\n",
       "    </tr>\n",
       "    <tr>\n",
       "      <th>4</th>\n",
       "      <td>0.182538</td>\n",
       "      <td>-0.885626</td>\n",
       "    </tr>\n",
       "    <tr>\n",
       "      <th>5</th>\n",
       "      <td>-1.305243</td>\n",
       "      <td>0.011184</td>\n",
       "    </tr>\n",
       "    <tr>\n",
       "      <th>6</th>\n",
       "      <td>-0.625405</td>\n",
       "      <td>-0.122804</td>\n",
       "    </tr>\n",
       "    <tr>\n",
       "      <th>7</th>\n",
       "      <td>-0.043370</td>\n",
       "      <td>-0.247827</td>\n",
       "    </tr>\n",
       "    <tr>\n",
       "      <th>8</th>\n",
       "      <td>0.666886</td>\n",
       "      <td>-1.353356</td>\n",
       "    </tr>\n",
       "    <tr>\n",
       "      <th>9</th>\n",
       "      <td>-0.758889</td>\n",
       "      <td>-0.743512</td>\n",
       "    </tr>\n",
       "  </tbody>\n",
       "</table>\n",
       "</div>"
      ],
      "text/plain": [
       "          x         y\n",
       "0  0.783106  0.079031\n",
       "1 -1.157254 -0.644479\n",
       "2  0.602490  0.518906\n",
       "3  1.173943 -0.073281\n",
       "4  0.182538 -0.885626\n",
       "5 -1.305243  0.011184\n",
       "6 -0.625405 -0.122804\n",
       "7 -0.043370 -0.247827\n",
       "8  0.666886 -1.353356\n",
       "9 -0.758889 -0.743512"
      ]
     },
     "execution_count": 10,
     "metadata": {},
     "output_type": "execute_result"
    }
   ],
   "source": [
    "# Given a simple dataframe of two columns of values, we can find the sum or\n",
    "# Perform other calculations\n",
    "\n",
    "column1 = np.random.normal(size=10)\n",
    "column2 = np.random.normal(size=10)\n",
    "test_data = {'x': column1, 'y': column2}\n",
    "dataframe = pd.DataFrame(test_data)\n",
    "dataframe.head(10)"
   ]
  },
  {
   "cell_type": "code",
   "execution_count": 11,
   "metadata": {},
   "outputs": [
    {
     "data": {
      "text/html": [
       "<div>\n",
       "<style scoped>\n",
       "    .dataframe tbody tr th:only-of-type {\n",
       "        vertical-align: middle;\n",
       "    }\n",
       "\n",
       "    .dataframe tbody tr th {\n",
       "        vertical-align: top;\n",
       "    }\n",
       "\n",
       "    .dataframe thead th {\n",
       "        text-align: right;\n",
       "    }\n",
       "</style>\n",
       "<table border=\"1\" class=\"dataframe\">\n",
       "  <thead>\n",
       "    <tr style=\"text-align: right;\">\n",
       "      <th></th>\n",
       "      <th>x</th>\n",
       "      <th>y</th>\n",
       "      <th>sums</th>\n",
       "      <th>product</th>\n",
       "    </tr>\n",
       "  </thead>\n",
       "  <tbody>\n",
       "    <tr>\n",
       "      <th>0</th>\n",
       "      <td>0.783106</td>\n",
       "      <td>0.079031</td>\n",
       "      <td>0.862138</td>\n",
       "      <td>0.061890</td>\n",
       "    </tr>\n",
       "    <tr>\n",
       "      <th>1</th>\n",
       "      <td>-1.157254</td>\n",
       "      <td>-0.644479</td>\n",
       "      <td>-1.801732</td>\n",
       "      <td>0.745825</td>\n",
       "    </tr>\n",
       "    <tr>\n",
       "      <th>2</th>\n",
       "      <td>0.602490</td>\n",
       "      <td>0.518906</td>\n",
       "      <td>1.121396</td>\n",
       "      <td>0.312636</td>\n",
       "    </tr>\n",
       "    <tr>\n",
       "      <th>3</th>\n",
       "      <td>1.173943</td>\n",
       "      <td>-0.073281</td>\n",
       "      <td>1.100662</td>\n",
       "      <td>-0.086028</td>\n",
       "    </tr>\n",
       "    <tr>\n",
       "      <th>4</th>\n",
       "      <td>0.182538</td>\n",
       "      <td>-0.885626</td>\n",
       "      <td>-0.703088</td>\n",
       "      <td>-0.161660</td>\n",
       "    </tr>\n",
       "    <tr>\n",
       "      <th>5</th>\n",
       "      <td>-1.305243</td>\n",
       "      <td>0.011184</td>\n",
       "      <td>-1.294058</td>\n",
       "      <td>-0.014598</td>\n",
       "    </tr>\n",
       "    <tr>\n",
       "      <th>6</th>\n",
       "      <td>-0.625405</td>\n",
       "      <td>-0.122804</td>\n",
       "      <td>-0.748209</td>\n",
       "      <td>0.076802</td>\n",
       "    </tr>\n",
       "    <tr>\n",
       "      <th>7</th>\n",
       "      <td>-0.043370</td>\n",
       "      <td>-0.247827</td>\n",
       "      <td>-0.291197</td>\n",
       "      <td>0.010748</td>\n",
       "    </tr>\n",
       "    <tr>\n",
       "      <th>8</th>\n",
       "      <td>0.666886</td>\n",
       "      <td>-1.353356</td>\n",
       "      <td>-0.686470</td>\n",
       "      <td>-0.902534</td>\n",
       "    </tr>\n",
       "    <tr>\n",
       "      <th>9</th>\n",
       "      <td>-0.758889</td>\n",
       "      <td>-0.743512</td>\n",
       "      <td>-1.502401</td>\n",
       "      <td>0.564243</td>\n",
       "    </tr>\n",
       "  </tbody>\n",
       "</table>\n",
       "</div>"
      ],
      "text/plain": [
       "          x         y      sums   product\n",
       "0  0.783106  0.079031  0.862138  0.061890\n",
       "1 -1.157254 -0.644479 -1.801732  0.745825\n",
       "2  0.602490  0.518906  1.121396  0.312636\n",
       "3  1.173943 -0.073281  1.100662 -0.086028\n",
       "4  0.182538 -0.885626 -0.703088 -0.161660\n",
       "5 -1.305243  0.011184 -1.294058 -0.014598\n",
       "6 -0.625405 -0.122804 -0.748209  0.076802\n",
       "7 -0.043370 -0.247827 -0.291197  0.010748\n",
       "8  0.666886 -1.353356 -0.686470 -0.902534\n",
       "9 -0.758889 -0.743512 -1.502401  0.564243"
      ]
     },
     "execution_count": 11,
     "metadata": {},
     "output_type": "execute_result"
    }
   ],
   "source": [
    "dataframe['sums'] = dataframe['x'] + dataframe['y']\n",
    "dataframe['product'] = dataframe['x'] * dataframe['y']\n",
    "dataframe.head(10)"
   ]
  },
  {
   "cell_type": "markdown",
   "metadata": {},
   "source": [
    "## The Basics - Get Data"
   ]
  },
  {
   "cell_type": "markdown",
   "metadata": {},
   "source": [
    "Let's say that your research group already has collected data that they've saved in a csv file. You can open csv files from pandas too using the pandas `read_csv()` function."
   ]
  },
  {
   "cell_type": "code",
   "execution_count": 12,
   "metadata": {},
   "outputs": [],
   "source": [
    "# This csv file was created by Hadley Wickham\n",
    "# and is available at https://github.com/hadley/data-baby-names\n",
    "names_df = pd.read_csv('baby-names.csv')"
   ]
  },
  {
   "cell_type": "markdown",
   "metadata": {},
   "source": [
    "There are a few ways you can explore what is in your csv file. For example, you can see what columns are included, you can look at the first few lines, or you can see how many rows, or items, there are in the dataframe."
   ]
  },
  {
   "cell_type": "code",
   "execution_count": 13,
   "metadata": {},
   "outputs": [
    {
     "data": {
      "text/plain": [
       "Index(['year', 'name', 'percent', 'gender'], dtype='object')"
      ]
     },
     "execution_count": 13,
     "metadata": {},
     "output_type": "execute_result"
    }
   ],
   "source": [
    "names_df.columns\n",
    "\n",
    "# Note that the data for this csv file is taken from the US Social Security website. \n",
    "# The SSO has historically assigned a binary gender at birth and is therefore biased in its collection.\n",
    "# It is always important to keep in mind bias that might be included in data collection!"
   ]
  },
  {
   "cell_type": "code",
   "execution_count": 14,
   "metadata": {},
   "outputs": [
    {
     "data": {
      "text/html": [
       "<div>\n",
       "<style scoped>\n",
       "    .dataframe tbody tr th:only-of-type {\n",
       "        vertical-align: middle;\n",
       "    }\n",
       "\n",
       "    .dataframe tbody tr th {\n",
       "        vertical-align: top;\n",
       "    }\n",
       "\n",
       "    .dataframe thead th {\n",
       "        text-align: right;\n",
       "    }\n",
       "</style>\n",
       "<table border=\"1\" class=\"dataframe\">\n",
       "  <thead>\n",
       "    <tr style=\"text-align: right;\">\n",
       "      <th></th>\n",
       "      <th>year</th>\n",
       "      <th>name</th>\n",
       "      <th>percent</th>\n",
       "      <th>gender</th>\n",
       "    </tr>\n",
       "  </thead>\n",
       "  <tbody>\n",
       "    <tr>\n",
       "      <th>0</th>\n",
       "      <td>1880</td>\n",
       "      <td>John</td>\n",
       "      <td>0.081541</td>\n",
       "      <td>boy</td>\n",
       "    </tr>\n",
       "    <tr>\n",
       "      <th>1</th>\n",
       "      <td>1880</td>\n",
       "      <td>William</td>\n",
       "      <td>0.080511</td>\n",
       "      <td>boy</td>\n",
       "    </tr>\n",
       "    <tr>\n",
       "      <th>2</th>\n",
       "      <td>1880</td>\n",
       "      <td>James</td>\n",
       "      <td>0.050057</td>\n",
       "      <td>boy</td>\n",
       "    </tr>\n",
       "    <tr>\n",
       "      <th>3</th>\n",
       "      <td>1880</td>\n",
       "      <td>Charles</td>\n",
       "      <td>0.045167</td>\n",
       "      <td>boy</td>\n",
       "    </tr>\n",
       "    <tr>\n",
       "      <th>4</th>\n",
       "      <td>1880</td>\n",
       "      <td>George</td>\n",
       "      <td>0.043292</td>\n",
       "      <td>boy</td>\n",
       "    </tr>\n",
       "    <tr>\n",
       "      <th>5</th>\n",
       "      <td>1880</td>\n",
       "      <td>Frank</td>\n",
       "      <td>0.027380</td>\n",
       "      <td>boy</td>\n",
       "    </tr>\n",
       "    <tr>\n",
       "      <th>6</th>\n",
       "      <td>1880</td>\n",
       "      <td>Joseph</td>\n",
       "      <td>0.022229</td>\n",
       "      <td>boy</td>\n",
       "    </tr>\n",
       "    <tr>\n",
       "      <th>7</th>\n",
       "      <td>1880</td>\n",
       "      <td>Thomas</td>\n",
       "      <td>0.021401</td>\n",
       "      <td>boy</td>\n",
       "    </tr>\n",
       "    <tr>\n",
       "      <th>8</th>\n",
       "      <td>1880</td>\n",
       "      <td>Henry</td>\n",
       "      <td>0.020641</td>\n",
       "      <td>boy</td>\n",
       "    </tr>\n",
       "    <tr>\n",
       "      <th>9</th>\n",
       "      <td>1880</td>\n",
       "      <td>Robert</td>\n",
       "      <td>0.020404</td>\n",
       "      <td>boy</td>\n",
       "    </tr>\n",
       "  </tbody>\n",
       "</table>\n",
       "</div>"
      ],
      "text/plain": [
       "   year     name   percent gender\n",
       "0  1880     John  0.081541    boy\n",
       "1  1880  William  0.080511    boy\n",
       "2  1880    James  0.050057    boy\n",
       "3  1880  Charles  0.045167    boy\n",
       "4  1880   George  0.043292    boy\n",
       "5  1880    Frank  0.027380    boy\n",
       "6  1880   Joseph  0.022229    boy\n",
       "7  1880   Thomas  0.021401    boy\n",
       "8  1880    Henry  0.020641    boy\n",
       "9  1880   Robert  0.020404    boy"
      ]
     },
     "execution_count": 14,
     "metadata": {},
     "output_type": "execute_result"
    }
   ],
   "source": [
    "names_df.head(10)\n",
    "\n",
    "# Try chaning the .head call. Can you create a different dataframe as a subset of a\n",
    "# portion of just the original one?"
   ]
  },
  {
   "cell_type": "code",
   "execution_count": 15,
   "metadata": {},
   "outputs": [
    {
     "data": {
      "text/plain": [
       "258000"
      ]
     },
     "execution_count": 15,
     "metadata": {},
     "output_type": "execute_result"
    }
   ],
   "source": [
    "len(names_df)"
   ]
  },
  {
   "cell_type": "markdown",
   "metadata": {},
   "source": [
    "From exploring the data, we can see that this dataset includes information about 258,000 popular names according to the population percentage given the name each year sorted by gender. \n",
    "\n",
    "## Analyzing Data\n",
    "We can ask questions about this dataset and look for answers using pandas. Let's see how many years are included in the dataset."
   ]
  },
  {
   "cell_type": "code",
   "execution_count": 16,
   "metadata": {},
   "outputs": [
    {
     "name": "stdout",
     "output_type": "stream",
     "text": [
      "<class 'pandas.core.series.Series'>\n"
     ]
    }
   ],
   "source": [
    "# First we isolate the column including information about each year\n",
    "years = names_df['year']\n",
    "\n",
    "# Selecting a series like this returns a pandas object called a series\n",
    "print (type(years))"
   ]
  },
  {
   "cell_type": "code",
   "execution_count": 17,
   "metadata": {},
   "outputs": [
    {
     "name": "stdout",
     "output_type": "stream",
     "text": [
      "1880\n",
      "1880\n"
     ]
    }
   ],
   "source": [
    "# Now we find the minimum value in that column, using the .min() command\n",
    "years.min()\n",
    "print (years.min())\n",
    "\n",
    "# You can also cast the pandas series object as a list\n",
    "print (min(list(years)))"
   ]
  },
  {
   "cell_type": "markdown",
   "metadata": {},
   "source": [
    "Now we can look at different ways of manipulating this dataset!"
   ]
  },
  {
   "cell_type": "code",
   "execution_count": 18,
   "metadata": {},
   "outputs": [
    {
     "data": {
      "text/plain": [
       "0.0008944713333333334"
      ]
     },
     "execution_count": 18,
     "metadata": {},
     "output_type": "execute_result"
    }
   ],
   "source": [
    "names_df['percent'].mean()"
   ]
  },
  {
   "cell_type": "code",
   "execution_count": 19,
   "metadata": {},
   "outputs": [
    {
     "data": {
      "text/plain": [
       "0.000164"
      ]
     },
     "execution_count": 19,
     "metadata": {},
     "output_type": "execute_result"
    }
   ],
   "source": [
    "names_df['percent'].median()"
   ]
  },
  {
   "cell_type": "code",
   "execution_count": 20,
   "metadata": {},
   "outputs": [
    {
     "data": {
      "text/plain": [
       "0    0.000051\n",
       "Name: percent, dtype: float64"
      ]
     },
     "execution_count": 20,
     "metadata": {},
     "output_type": "execute_result"
    }
   ],
   "source": [
    "names_df['percent'].mode()"
   ]
  },
  {
   "cell_type": "markdown",
   "metadata": {},
   "source": [
    "We'll dive more into the difference between mean, median and mode later in the summer. For the final part of this tutorial, we'll look at dividing the data into subsets. Maybe your study is only interested in exploring the most popular names given to baby girls in the 1960s."
   ]
  },
  {
   "cell_type": "code",
   "execution_count": 21,
   "metadata": {},
   "outputs": [],
   "source": [
    "subset = names_df.loc[(years >= 1960) & (years < 1970) & (names_df['gender'] == 'girl')]"
   ]
  },
  {
   "cell_type": "markdown",
   "metadata": {},
   "source": [
    "How do you view the first 12 lines of this subset?"
   ]
  },
  {
   "cell_type": "code",
   "execution_count": 22,
   "metadata": {},
   "outputs": [
    {
     "data": {
      "text/html": [
       "<div>\n",
       "<style scoped>\n",
       "    .dataframe tbody tr th:only-of-type {\n",
       "        vertical-align: middle;\n",
       "    }\n",
       "\n",
       "    .dataframe tbody tr th {\n",
       "        vertical-align: top;\n",
       "    }\n",
       "\n",
       "    .dataframe thead th {\n",
       "        text-align: right;\n",
       "    }\n",
       "</style>\n",
       "<table border=\"1\" class=\"dataframe\">\n",
       "  <thead>\n",
       "    <tr style=\"text-align: right;\">\n",
       "      <th></th>\n",
       "      <th>year</th>\n",
       "      <th>name</th>\n",
       "      <th>percent</th>\n",
       "      <th>gender</th>\n",
       "    </tr>\n",
       "  </thead>\n",
       "  <tbody>\n",
       "    <tr>\n",
       "      <th>209000</th>\n",
       "      <td>1960</td>\n",
       "      <td>Mary</td>\n",
       "      <td>0.024750</td>\n",
       "      <td>girl</td>\n",
       "    </tr>\n",
       "    <tr>\n",
       "      <th>209001</th>\n",
       "      <td>1960</td>\n",
       "      <td>Susan</td>\n",
       "      <td>0.018846</td>\n",
       "      <td>girl</td>\n",
       "    </tr>\n",
       "    <tr>\n",
       "      <th>209002</th>\n",
       "      <td>1960</td>\n",
       "      <td>Linda</td>\n",
       "      <td>0.017942</td>\n",
       "      <td>girl</td>\n",
       "    </tr>\n",
       "    <tr>\n",
       "      <th>209003</th>\n",
       "      <td>1960</td>\n",
       "      <td>Karen</td>\n",
       "      <td>0.017494</td>\n",
       "      <td>girl</td>\n",
       "    </tr>\n",
       "    <tr>\n",
       "      <th>209004</th>\n",
       "      <td>1960</td>\n",
       "      <td>Donna</td>\n",
       "      <td>0.016410</td>\n",
       "      <td>girl</td>\n",
       "    </tr>\n",
       "    <tr>\n",
       "      <th>209005</th>\n",
       "      <td>1960</td>\n",
       "      <td>Lisa</td>\n",
       "      <td>0.016207</td>\n",
       "      <td>girl</td>\n",
       "    </tr>\n",
       "    <tr>\n",
       "      <th>209006</th>\n",
       "      <td>1960</td>\n",
       "      <td>Patricia</td>\n",
       "      <td>0.015435</td>\n",
       "      <td>girl</td>\n",
       "    </tr>\n",
       "    <tr>\n",
       "      <th>209007</th>\n",
       "      <td>1960</td>\n",
       "      <td>Debra</td>\n",
       "      <td>0.012855</td>\n",
       "      <td>girl</td>\n",
       "    </tr>\n",
       "    <tr>\n",
       "      <th>209008</th>\n",
       "      <td>1960</td>\n",
       "      <td>Cynthia</td>\n",
       "      <td>0.012847</td>\n",
       "      <td>girl</td>\n",
       "    </tr>\n",
       "    <tr>\n",
       "      <th>209009</th>\n",
       "      <td>1960</td>\n",
       "      <td>Deborah</td>\n",
       "      <td>0.012149</td>\n",
       "      <td>girl</td>\n",
       "    </tr>\n",
       "    <tr>\n",
       "      <th>209010</th>\n",
       "      <td>1960</td>\n",
       "      <td>Sandra</td>\n",
       "      <td>0.011815</td>\n",
       "      <td>girl</td>\n",
       "    </tr>\n",
       "    <tr>\n",
       "      <th>209011</th>\n",
       "      <td>1960</td>\n",
       "      <td>Barbara</td>\n",
       "      <td>0.011757</td>\n",
       "      <td>girl</td>\n",
       "    </tr>\n",
       "  </tbody>\n",
       "</table>\n",
       "</div>"
      ],
      "text/plain": [
       "        year      name   percent gender\n",
       "209000  1960      Mary  0.024750   girl\n",
       "209001  1960     Susan  0.018846   girl\n",
       "209002  1960     Linda  0.017942   girl\n",
       "209003  1960     Karen  0.017494   girl\n",
       "209004  1960     Donna  0.016410   girl\n",
       "209005  1960      Lisa  0.016207   girl\n",
       "209006  1960  Patricia  0.015435   girl\n",
       "209007  1960     Debra  0.012855   girl\n",
       "209008  1960   Cynthia  0.012847   girl\n",
       "209009  1960   Deborah  0.012149   girl\n",
       "209010  1960    Sandra  0.011815   girl\n",
       "209011  1960   Barbara  0.011757   girl"
      ]
     },
     "execution_count": 22,
     "metadata": {},
     "output_type": "execute_result"
    }
   ],
   "source": [
    "subset.head(12)"
   ]
  },
  {
   "cell_type": "markdown",
   "metadata": {},
   "source": [
    "Let's sort our subset by percentage popularity."
   ]
  },
  {
   "cell_type": "code",
   "execution_count": 23,
   "metadata": {},
   "outputs": [
    {
     "data": {
      "text/html": [
       "<div>\n",
       "<style scoped>\n",
       "    .dataframe tbody tr th:only-of-type {\n",
       "        vertical-align: middle;\n",
       "    }\n",
       "\n",
       "    .dataframe tbody tr th {\n",
       "        vertical-align: top;\n",
       "    }\n",
       "\n",
       "    .dataframe thead th {\n",
       "        text-align: right;\n",
       "    }\n",
       "</style>\n",
       "<table border=\"1\" class=\"dataframe\">\n",
       "  <thead>\n",
       "    <tr style=\"text-align: right;\">\n",
       "      <th></th>\n",
       "      <th>year</th>\n",
       "      <th>name</th>\n",
       "      <th>percent</th>\n",
       "      <th>gender</th>\n",
       "    </tr>\n",
       "  </thead>\n",
       "  <tbody>\n",
       "    <tr>\n",
       "      <th>214000</th>\n",
       "      <td>1965</td>\n",
       "      <td>Lisa</td>\n",
       "      <td>0.032982</td>\n",
       "      <td>girl</td>\n",
       "    </tr>\n",
       "    <tr>\n",
       "      <th>215000</th>\n",
       "      <td>1966</td>\n",
       "      <td>Lisa</td>\n",
       "      <td>0.032416</td>\n",
       "      <td>girl</td>\n",
       "    </tr>\n",
       "    <tr>\n",
       "      <th>216000</th>\n",
       "      <td>1967</td>\n",
       "      <td>Lisa</td>\n",
       "      <td>0.030539</td>\n",
       "      <td>girl</td>\n",
       "    </tr>\n",
       "    <tr>\n",
       "      <th>217000</th>\n",
       "      <td>1968</td>\n",
       "      <td>Lisa</td>\n",
       "      <td>0.028974</td>\n",
       "      <td>girl</td>\n",
       "    </tr>\n",
       "    <tr>\n",
       "      <th>212000</th>\n",
       "      <td>1963</td>\n",
       "      <td>Lisa</td>\n",
       "      <td>0.028189</td>\n",
       "      <td>girl</td>\n",
       "    </tr>\n",
       "    <tr>\n",
       "      <th>...</th>\n",
       "      <td>...</td>\n",
       "      <td>...</td>\n",
       "      <td>...</td>\n",
       "      <td>...</td>\n",
       "    </tr>\n",
       "    <tr>\n",
       "      <th>209994</th>\n",
       "      <td>1960</td>\n",
       "      <td>Keely</td>\n",
       "      <td>0.000056</td>\n",
       "      <td>girl</td>\n",
       "    </tr>\n",
       "    <tr>\n",
       "      <th>209993</th>\n",
       "      <td>1960</td>\n",
       "      <td>Caron</td>\n",
       "      <td>0.000056</td>\n",
       "      <td>girl</td>\n",
       "    </tr>\n",
       "    <tr>\n",
       "      <th>209992</th>\n",
       "      <td>1960</td>\n",
       "      <td>Carlotta</td>\n",
       "      <td>0.000056</td>\n",
       "      <td>girl</td>\n",
       "    </tr>\n",
       "    <tr>\n",
       "      <th>209991</th>\n",
       "      <td>1960</td>\n",
       "      <td>Bev</td>\n",
       "      <td>0.000056</td>\n",
       "      <td>girl</td>\n",
       "    </tr>\n",
       "    <tr>\n",
       "      <th>209999</th>\n",
       "      <td>1960</td>\n",
       "      <td>Anastasia</td>\n",
       "      <td>0.000055</td>\n",
       "      <td>girl</td>\n",
       "    </tr>\n",
       "  </tbody>\n",
       "</table>\n",
       "<p>10000 rows × 4 columns</p>\n",
       "</div>"
      ],
      "text/plain": [
       "        year       name   percent gender\n",
       "214000  1965       Lisa  0.032982   girl\n",
       "215000  1966       Lisa  0.032416   girl\n",
       "216000  1967       Lisa  0.030539   girl\n",
       "217000  1968       Lisa  0.028974   girl\n",
       "212000  1963       Lisa  0.028189   girl\n",
       "...      ...        ...       ...    ...\n",
       "209994  1960      Keely  0.000056   girl\n",
       "209993  1960      Caron  0.000056   girl\n",
       "209992  1960   Carlotta  0.000056   girl\n",
       "209991  1960        Bev  0.000056   girl\n",
       "209999  1960  Anastasia  0.000055   girl\n",
       "\n",
       "[10000 rows x 4 columns]"
      ]
     },
     "execution_count": 23,
     "metadata": {},
     "output_type": "execute_result"
    }
   ],
   "source": [
    "subset.sort_values(by='percent', ascending=False)"
   ]
  },
  {
   "cell_type": "markdown",
   "metadata": {},
   "source": [
    "## Assignment"
   ]
  },
  {
   "cell_type": "markdown",
   "metadata": {},
   "source": [
    "Can you make a histogram of the percentage popularity of the name Lisa during the 1960s?"
   ]
  },
  {
   "cell_type": "code",
   "execution_count": 24,
   "metadata": {},
   "outputs": [],
   "source": [
    "# HINT: It's very useful to break coding down into written steps and then complete each step one by one.\n",
    "\n",
    "# Here is a sample of the first step that I might write\n",
    "# Step 1: Create a subset of the name Lisa in the 1960s.\n",
    "# Step 2: ...\n",
    "# ..."
   ]
  },
  {
   "cell_type": "code",
   "execution_count": 39,
   "metadata": {},
   "outputs": [],
   "source": [
    "subset_Lisa=names_df.loc[(years >= 1960) & (years < 1970) & (names_df['gender'] == 'girl')&(names_df[\"name\"]==\"Lisa\")]"
   ]
  },
  {
   "cell_type": "code",
   "execution_count": 45,
   "metadata": {},
   "outputs": [
    {
     "data": {
      "image/png": "[encoded data removed]",
      "text/plain": [
       "<Figure size 640x480 with 1 Axes>"
      ]
     },
     "metadata": {},
     "output_type": "display_data"
    }
   ],
   "source": [
    "plt.hist(subset_Lisa['year'], weights=subset_Lisa['percent'], bins=len(subset_Lisa['year'].unique()), edgecolor='black')\n",
    "plt.xlabel('Year')\n",
    "plt.ylabel('Percent')\n",
    "plt.title('Percentage of Girls Named Lisa (1960-1969)');"
   ]
  },
  {
   "cell_type": "markdown",
   "metadata": {},
   "source": [
    "Can you make a histogram of the percentage popularity of the name Mary during the 1960s?"
   ]
  },
  {
   "cell_type": "code",
   "execution_count": 44,
   "metadata": {},
   "outputs": [
    {
     "data": {
      "image/png": "[encoded data removed]",
      "text/plain": [
       "<Figure size 640x480 with 1 Axes>"
      ]
     },
     "metadata": {},
     "output_type": "display_data"
    }
   ],
   "source": [
    "subset_Mary = names_df.loc[(names_df['year'] >= 1960) & (names_df['year'] < 1970) & (names_df['name'] == 'Mary')]\n",
    "plt.hist(subset_Mary['year'], weights=subset_Mary['percent'], bins=len(subset_Mary['year'].unique()), edgecolor='black')\n",
    "plt.xlabel('Year')\n",
    "plt.ylabel('Percent')\n",
    "plt.title('Percentage of Girls Named Mary (1960-1969)');"
   ]
  },
  {
   "cell_type": "markdown",
   "metadata": {},
   "source": [
    "Now can you plot them on the same histogram?"
   ]
  },
  {
   "cell_type": "code",
   "execution_count": 47,
   "metadata": {},
   "outputs": [
    {
     "data": {
      "image/png": "[encoded data removed]",
      "text/plain": [
       "<Figure size 640x480 with 1 Axes>"
      ]
     },
     "metadata": {},
     "output_type": "display_data"
    }
   ],
   "source": [
    "plt.bar(subset_Mary['year'], subset_Mary['percent'],width=0.5,label=\"Mary\")\n",
    "plt.bar(subset_Lisa['year'], subset_Lisa['percent'], width=0.5,label=\"Lisa\")\n",
    "plt.xlabel('Year')\n",
    "plt.ylabel('Percent')\n",
    "plt.title('Percentage of Girls Named Lisa and Mary (1960-1969)')\n",
    "plt.show()"
   ]
  },
  {
   "cell_type": "markdown",
   "metadata": {},
   "source": [
    "Please save the csv file of the subset that you created. Scroll to the bottom of [this documentation](https://pandas.pydata.org/pandas-docs/stable/reference/api/pandas.DataFrame.to_csv.html) to find out how. Once you've completed Ryan's matplotlib tutorial, come back to this one and save a .png of your final histogram too!"
   ]
  },
  {
   "cell_type": "code",
   "execution_count": 28,
   "metadata": {},
   "outputs": [],
   "source": [
    "subset_Mary.to_csv('subset_Mary.csv', index=False)"
   ]
  },
  {
   "cell_type": "markdown",
   "metadata": {},
   "source": [
    "## Challenge Assignment"
   ]
  },
  {
   "cell_type": "markdown",
   "metadata": {},
   "source": [
    "Some names remained popular throughout a decade and some names were only popular for a year or two. 183 of the most popular names in the 1980s were only popular for a year. What were the first five most popular one hit wonders of the 1980s?\n",
    "\n",
    "We did not go over all the commands that you need to answer this question. Never fear! The internet can be your trusty guide. Head over to https://stackoverflow.com/ and use the pandas documentation to answer this question. Bonus pandas points if you can answer the question in one line of code!"
   ]
  },
  {
   "cell_type": "code",
   "execution_count": null,
   "metadata": {},
   "outputs": [],
   "source": []
  },
  {
   "cell_type": "markdown",
   "metadata": {},
   "source": [
    "What is the distribution of the count of one hit wonder names over time during the 1980s? Please save your histogram as a .png file."
   ]
  },
  {
   "cell_type": "code",
   "execution_count": null,
   "metadata": {},
   "outputs": [],
   "source": []
  },
  {
   "cell_type": "markdown",
   "metadata": {},
   "source": [
    "Now merge this 1980s dataframe with the overall dataset. Can you figure out a way to only keep the names that are popular in and beyond the 1980s in this merge? Write a l"
   ]
  },
  {
   "cell_type": "code",
   "execution_count": null,
   "metadata": {},
   "outputs": [],
   "source": []
  }
 ],
 "metadata": {
  "kernelspec": {
   "display_name": "Python 3 (ipykernel)",
   "language": "python",
   "name": "python3"
  },
  "language_info": {
   "codemirror_mode": {
    "name": "ipython",
    "version": 3
   },
   "file_extension": ".py",
   "mimetype": "text/x-python",
   "name": "python",
   "nbconvert_exporter": "python",
   "pygments_lexer": "ipython3",
   "version": "3.11.5"
  }
 },
 "nbformat": 4,
 "nbformat_minor": 4
}
